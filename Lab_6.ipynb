{
  "cells": [
    {
      "cell_type": "markdown",
      "metadata": {
        "id": "view-in-github",
        "colab_type": "text"
      },
      "source": [
        "<a href=\"https://colab.research.google.com/github/Kingsolima/Baymax/blob/main/Lab_6.ipynb\" target=\"_parent\"><img src=\"https://colab.research.google.com/assets/colab-badge.svg\" alt=\"Open In Colab\"/></a>"
      ]
    },
    {
      "cell_type": "markdown",
      "id": "bfe0c296",
      "metadata": {
        "id": "bfe0c296"
      },
      "source": [
        "# Lab 6"
      ]
    },
    {
      "cell_type": "markdown",
      "id": "f64bb4de",
      "metadata": {
        "id": "f64bb4de"
      },
      "source": [
        "In this lab we discuss:\n",
        "\n",
        "- Least-squares regression fit\n",
        "- Interpretation of result table (intercept and slope)\n"
      ]
    },
    {
      "cell_type": "markdown",
      "id": "dbe160dd",
      "metadata": {
        "id": "dbe160dd"
      },
      "source": [
        "## Import required Python libraries"
      ]
    },
    {
      "cell_type": "code",
      "execution_count": 5,
      "id": "2e63491d",
      "metadata": {
        "id": "2e63491d"
      },
      "outputs": [],
      "source": [
        "import numpy as np\n",
        "import pandas as pd\n",
        "import seaborn as sns\n",
        "import matplotlib.pyplot as plt\n",
        "from scipy import stats"
      ]
    },
    {
      "cell_type": "markdown",
      "id": "4e47d2f1",
      "metadata": {
        "id": "4e47d2f1"
      },
      "source": [
        "### Load .csv data\n",
        "\n",
        "In this lab we are going to work with the possum dataset (already studied in previous labs). This dataset consists of morphometric measurements on 46 possums."
      ]
    },
    {
      "cell_type": "code",
      "execution_count": 6,
      "id": "59af196c",
      "metadata": {
        "colab": {
          "base_uri": "https://localhost:8080/",
          "height": 321
        },
        "id": "59af196c",
        "outputId": "b6c3fec4-5fe0-420d-9c79-210ac21a16e1"
      },
      "outputs": [
        {
          "output_type": "error",
          "ename": "FileNotFoundError",
          "evalue": "[Errno 2] No such file or directory: 'possum.csv'",
          "traceback": [
            "\u001b[0;31m---------------------------------------------------------------------------\u001b[0m",
            "\u001b[0;31mFileNotFoundError\u001b[0m                         Traceback (most recent call last)",
            "\u001b[0;32m<ipython-input-6-0fa3a43c4f39>\u001b[0m in \u001b[0;36m<cell line: 0>\u001b[0;34m()\u001b[0m\n\u001b[0;32m----> 1\u001b[0;31m \u001b[0mpossum\u001b[0m \u001b[0;34m=\u001b[0m \u001b[0mpd\u001b[0m\u001b[0;34m.\u001b[0m\u001b[0mread_csv\u001b[0m\u001b[0;34m(\u001b[0m\u001b[0;34m\"possum.csv\"\u001b[0m\u001b[0;34m)\u001b[0m\u001b[0;34m\u001b[0m\u001b[0;34m\u001b[0m\u001b[0m\n\u001b[0m\u001b[1;32m      2\u001b[0m \u001b[0mpossum\u001b[0m\u001b[0;34m.\u001b[0m\u001b[0mhead\u001b[0m\u001b[0;34m(\u001b[0m\u001b[0;36m10\u001b[0m\u001b[0;34m)\u001b[0m\u001b[0;34m\u001b[0m\u001b[0;34m\u001b[0m\u001b[0m\n",
            "\u001b[0;32m/usr/local/lib/python3.11/dist-packages/pandas/io/parsers/readers.py\u001b[0m in \u001b[0;36mread_csv\u001b[0;34m(filepath_or_buffer, sep, delimiter, header, names, index_col, usecols, dtype, engine, converters, true_values, false_values, skipinitialspace, skiprows, skipfooter, nrows, na_values, keep_default_na, na_filter, verbose, skip_blank_lines, parse_dates, infer_datetime_format, keep_date_col, date_parser, date_format, dayfirst, cache_dates, iterator, chunksize, compression, thousands, decimal, lineterminator, quotechar, quoting, doublequote, escapechar, comment, encoding, encoding_errors, dialect, on_bad_lines, delim_whitespace, low_memory, memory_map, float_precision, storage_options, dtype_backend)\u001b[0m\n\u001b[1;32m   1024\u001b[0m     \u001b[0mkwds\u001b[0m\u001b[0;34m.\u001b[0m\u001b[0mupdate\u001b[0m\u001b[0;34m(\u001b[0m\u001b[0mkwds_defaults\u001b[0m\u001b[0;34m)\u001b[0m\u001b[0;34m\u001b[0m\u001b[0;34m\u001b[0m\u001b[0m\n\u001b[1;32m   1025\u001b[0m \u001b[0;34m\u001b[0m\u001b[0m\n\u001b[0;32m-> 1026\u001b[0;31m     \u001b[0;32mreturn\u001b[0m \u001b[0m_read\u001b[0m\u001b[0;34m(\u001b[0m\u001b[0mfilepath_or_buffer\u001b[0m\u001b[0;34m,\u001b[0m \u001b[0mkwds\u001b[0m\u001b[0;34m)\u001b[0m\u001b[0;34m\u001b[0m\u001b[0;34m\u001b[0m\u001b[0m\n\u001b[0m\u001b[1;32m   1027\u001b[0m \u001b[0;34m\u001b[0m\u001b[0m\n\u001b[1;32m   1028\u001b[0m \u001b[0;34m\u001b[0m\u001b[0m\n",
            "\u001b[0;32m/usr/local/lib/python3.11/dist-packages/pandas/io/parsers/readers.py\u001b[0m in \u001b[0;36m_read\u001b[0;34m(filepath_or_buffer, kwds)\u001b[0m\n\u001b[1;32m    618\u001b[0m \u001b[0;34m\u001b[0m\u001b[0m\n\u001b[1;32m    619\u001b[0m     \u001b[0;31m# Create the parser.\u001b[0m\u001b[0;34m\u001b[0m\u001b[0;34m\u001b[0m\u001b[0m\n\u001b[0;32m--> 620\u001b[0;31m     \u001b[0mparser\u001b[0m \u001b[0;34m=\u001b[0m \u001b[0mTextFileReader\u001b[0m\u001b[0;34m(\u001b[0m\u001b[0mfilepath_or_buffer\u001b[0m\u001b[0;34m,\u001b[0m \u001b[0;34m**\u001b[0m\u001b[0mkwds\u001b[0m\u001b[0;34m)\u001b[0m\u001b[0;34m\u001b[0m\u001b[0;34m\u001b[0m\u001b[0m\n\u001b[0m\u001b[1;32m    621\u001b[0m \u001b[0;34m\u001b[0m\u001b[0m\n\u001b[1;32m    622\u001b[0m     \u001b[0;32mif\u001b[0m \u001b[0mchunksize\u001b[0m \u001b[0;32mor\u001b[0m \u001b[0miterator\u001b[0m\u001b[0;34m:\u001b[0m\u001b[0;34m\u001b[0m\u001b[0;34m\u001b[0m\u001b[0m\n",
            "\u001b[0;32m/usr/local/lib/python3.11/dist-packages/pandas/io/parsers/readers.py\u001b[0m in \u001b[0;36m__init__\u001b[0;34m(self, f, engine, **kwds)\u001b[0m\n\u001b[1;32m   1618\u001b[0m \u001b[0;34m\u001b[0m\u001b[0m\n\u001b[1;32m   1619\u001b[0m         \u001b[0mself\u001b[0m\u001b[0;34m.\u001b[0m\u001b[0mhandles\u001b[0m\u001b[0;34m:\u001b[0m \u001b[0mIOHandles\u001b[0m \u001b[0;34m|\u001b[0m \u001b[0;32mNone\u001b[0m \u001b[0;34m=\u001b[0m \u001b[0;32mNone\u001b[0m\u001b[0;34m\u001b[0m\u001b[0;34m\u001b[0m\u001b[0m\n\u001b[0;32m-> 1620\u001b[0;31m         \u001b[0mself\u001b[0m\u001b[0;34m.\u001b[0m\u001b[0m_engine\u001b[0m \u001b[0;34m=\u001b[0m \u001b[0mself\u001b[0m\u001b[0;34m.\u001b[0m\u001b[0m_make_engine\u001b[0m\u001b[0;34m(\u001b[0m\u001b[0mf\u001b[0m\u001b[0;34m,\u001b[0m \u001b[0mself\u001b[0m\u001b[0;34m.\u001b[0m\u001b[0mengine\u001b[0m\u001b[0;34m)\u001b[0m\u001b[0;34m\u001b[0m\u001b[0;34m\u001b[0m\u001b[0m\n\u001b[0m\u001b[1;32m   1621\u001b[0m \u001b[0;34m\u001b[0m\u001b[0m\n\u001b[1;32m   1622\u001b[0m     \u001b[0;32mdef\u001b[0m \u001b[0mclose\u001b[0m\u001b[0;34m(\u001b[0m\u001b[0mself\u001b[0m\u001b[0;34m)\u001b[0m \u001b[0;34m->\u001b[0m \u001b[0;32mNone\u001b[0m\u001b[0;34m:\u001b[0m\u001b[0;34m\u001b[0m\u001b[0;34m\u001b[0m\u001b[0m\n",
            "\u001b[0;32m/usr/local/lib/python3.11/dist-packages/pandas/io/parsers/readers.py\u001b[0m in \u001b[0;36m_make_engine\u001b[0;34m(self, f, engine)\u001b[0m\n\u001b[1;32m   1878\u001b[0m                 \u001b[0;32mif\u001b[0m \u001b[0;34m\"b\"\u001b[0m \u001b[0;32mnot\u001b[0m \u001b[0;32min\u001b[0m \u001b[0mmode\u001b[0m\u001b[0;34m:\u001b[0m\u001b[0;34m\u001b[0m\u001b[0;34m\u001b[0m\u001b[0m\n\u001b[1;32m   1879\u001b[0m                     \u001b[0mmode\u001b[0m \u001b[0;34m+=\u001b[0m \u001b[0;34m\"b\"\u001b[0m\u001b[0;34m\u001b[0m\u001b[0;34m\u001b[0m\u001b[0m\n\u001b[0;32m-> 1880\u001b[0;31m             self.handles = get_handle(\n\u001b[0m\u001b[1;32m   1881\u001b[0m                 \u001b[0mf\u001b[0m\u001b[0;34m,\u001b[0m\u001b[0;34m\u001b[0m\u001b[0;34m\u001b[0m\u001b[0m\n\u001b[1;32m   1882\u001b[0m                 \u001b[0mmode\u001b[0m\u001b[0;34m,\u001b[0m\u001b[0;34m\u001b[0m\u001b[0;34m\u001b[0m\u001b[0m\n",
            "\u001b[0;32m/usr/local/lib/python3.11/dist-packages/pandas/io/common.py\u001b[0m in \u001b[0;36mget_handle\u001b[0;34m(path_or_buf, mode, encoding, compression, memory_map, is_text, errors, storage_options)\u001b[0m\n\u001b[1;32m    871\u001b[0m         \u001b[0;32mif\u001b[0m \u001b[0mioargs\u001b[0m\u001b[0;34m.\u001b[0m\u001b[0mencoding\u001b[0m \u001b[0;32mand\u001b[0m \u001b[0;34m\"b\"\u001b[0m \u001b[0;32mnot\u001b[0m \u001b[0;32min\u001b[0m \u001b[0mioargs\u001b[0m\u001b[0;34m.\u001b[0m\u001b[0mmode\u001b[0m\u001b[0;34m:\u001b[0m\u001b[0;34m\u001b[0m\u001b[0;34m\u001b[0m\u001b[0m\n\u001b[1;32m    872\u001b[0m             \u001b[0;31m# Encoding\u001b[0m\u001b[0;34m\u001b[0m\u001b[0;34m\u001b[0m\u001b[0m\n\u001b[0;32m--> 873\u001b[0;31m             handle = open(\n\u001b[0m\u001b[1;32m    874\u001b[0m                 \u001b[0mhandle\u001b[0m\u001b[0;34m,\u001b[0m\u001b[0;34m\u001b[0m\u001b[0;34m\u001b[0m\u001b[0m\n\u001b[1;32m    875\u001b[0m                 \u001b[0mioargs\u001b[0m\u001b[0;34m.\u001b[0m\u001b[0mmode\u001b[0m\u001b[0;34m,\u001b[0m\u001b[0;34m\u001b[0m\u001b[0;34m\u001b[0m\u001b[0m\n",
            "\u001b[0;31mFileNotFoundError\u001b[0m: [Errno 2] No such file or directory: 'possum.csv'"
          ]
        }
      ],
      "source": [
        "possum = pd.read_csv(\"possum.csv\")\n",
        "possum.head(10)"
      ]
    },
    {
      "cell_type": "markdown",
      "id": "85bd5858",
      "metadata": {
        "id": "85bd5858"
      },
      "source": [
        "## Simple Linear Regression"
      ]
    },
    {
      "cell_type": "markdown",
      "id": "3a828228",
      "metadata": {
        "id": "3a828228"
      },
      "source": [
        "**stats.linregress:** https://docs.scipy.org/doc/scipy/reference/generated/scipy.stats.linregress.html\n",
        "\n",
        "Simple linear regression is a linear regression model with a single explanatory variable. Let's predict `headL` using `age` variable."
      ]
    },
    {
      "cell_type": "code",
      "execution_count": 3,
      "id": "38307040",
      "metadata": {
        "colab": {
          "base_uri": "https://localhost:8080/",
          "height": 141
        },
        "id": "38307040",
        "outputId": "210d758c-1b9a-4ba4-f1cf-327edbd082fb"
      },
      "outputs": [
        {
          "output_type": "error",
          "ename": "NameError",
          "evalue": "name 'possum' is not defined",
          "traceback": [
            "\u001b[0;31m---------------------------------------------------------------------------\u001b[0m",
            "\u001b[0;31mNameError\u001b[0m                                 Traceback (most recent call last)",
            "\u001b[0;32m<ipython-input-3-2ff2ef75bc8f>\u001b[0m in \u001b[0;36m<cell line: 0>\u001b[0;34m()\u001b[0m\n\u001b[0;32m----> 1\u001b[0;31m \u001b[0mmodel\u001b[0m \u001b[0;34m=\u001b[0m \u001b[0mstats\u001b[0m\u001b[0;34m.\u001b[0m\u001b[0mlinregress\u001b[0m\u001b[0;34m(\u001b[0m\u001b[0mx\u001b[0m \u001b[0;34m=\u001b[0m \u001b[0mpossum\u001b[0m\u001b[0;34m[\u001b[0m\u001b[0;34m'age'\u001b[0m\u001b[0;34m]\u001b[0m\u001b[0;34m,\u001b[0m \u001b[0my\u001b[0m \u001b[0;34m=\u001b[0m \u001b[0mpossum\u001b[0m\u001b[0;34m[\u001b[0m\u001b[0;34m'headL'\u001b[0m\u001b[0;34m]\u001b[0m\u001b[0;34m)\u001b[0m\u001b[0;34m\u001b[0m\u001b[0;34m\u001b[0m\u001b[0m\n\u001b[0m",
            "\u001b[0;31mNameError\u001b[0m: name 'possum' is not defined"
          ]
        }
      ],
      "source": [
        "model = stats.linregress(x = possum['age'], y = possum['headL'])"
      ]
    },
    {
      "cell_type": "markdown",
      "id": "b7beb920",
      "metadata": {
        "id": "b7beb920"
      },
      "source": [
        "#### Getting the intercept of our model"
      ]
    },
    {
      "cell_type": "code",
      "execution_count": null,
      "id": "59f8e36b",
      "metadata": {
        "id": "59f8e36b"
      },
      "outputs": [],
      "source": [
        "model.intercept"
      ]
    },
    {
      "cell_type": "markdown",
      "id": "469ae3df",
      "metadata": {
        "id": "469ae3df"
      },
      "source": [
        "Interpretation: The intercept 90.0829 is the average head length when the age's possum is zero."
      ]
    },
    {
      "cell_type": "markdown",
      "id": "dbe5e493",
      "metadata": {
        "id": "dbe5e493"
      },
      "source": [
        "#### Getting the slope of our model"
      ]
    },
    {
      "cell_type": "code",
      "execution_count": null,
      "id": "965f85f5",
      "metadata": {
        "id": "965f85f5"
      },
      "outputs": [],
      "source": [
        "model.slope"
      ]
    },
    {
      "cell_type": "markdown",
      "id": "ac7c844c",
      "metadata": {
        "id": "ac7c844c"
      },
      "source": [
        "Interpretation: For every increase of one unit in the age, we expect that the head length will increase, on average, 0.5631 units."
      ]
    },
    {
      "cell_type": "markdown",
      "id": "6302a602",
      "metadata": {
        "id": "6302a602"
      },
      "source": [
        "#### Pearson correlation coefficient (r):"
      ]
    },
    {
      "cell_type": "code",
      "execution_count": null,
      "id": "99651bd9",
      "metadata": {
        "id": "99651bd9"
      },
      "outputs": [],
      "source": [
        "model.rvalue"
      ]
    },
    {
      "cell_type": "markdown",
      "id": "58081e88",
      "metadata": {
        "id": "58081e88"
      },
      "source": [
        "#### Percentage of the variability of the response variable (head length) explained by the regression model. ($R^2$)"
      ]
    },
    {
      "cell_type": "code",
      "execution_count": null,
      "id": "5ee58e24",
      "metadata": {
        "id": "5ee58e24"
      },
      "outputs": [],
      "source": [
        "model.rvalue ** 2"
      ]
    },
    {
      "cell_type": "markdown",
      "id": "34136dd3",
      "metadata": {
        "id": "34136dd3"
      },
      "source": [
        "### Plotting the fitted line in a scatterplot"
      ]
    },
    {
      "cell_type": "markdown",
      "id": "3c22721b",
      "metadata": {
        "id": "3c22721b"
      },
      "source": [
        "**sns.lmplot:** https://seaborn.pydata.org/generated/seaborn.lmplot.html"
      ]
    },
    {
      "cell_type": "code",
      "execution_count": null,
      "id": "8ab5697e",
      "metadata": {
        "id": "8ab5697e"
      },
      "outputs": [],
      "source": [
        "sns.lmplot(x = \"age\", y = \"headL\", data = possum, ci = None)\n",
        "#ci=None: do not show the confidence interval\n",
        "plt.xlim(0, 10) #change the range of x axis\n",
        "plt.show()"
      ]
    },
    {
      "cell_type": "markdown",
      "id": "63f77a6a",
      "metadata": {
        "id": "63f77a6a"
      },
      "source": [
        "#### Plotting two fitted lines, one for female and another for male possums\n",
        "\n",
        "When we want to plot one fitted line for each category of a categorical variable (such as sex) we can use `hue = \"categ_name\"`."
      ]
    },
    {
      "cell_type": "code",
      "execution_count": null,
      "id": "d65831a3",
      "metadata": {
        "id": "d65831a3"
      },
      "outputs": [],
      "source": [
        "sns.lmplot(x = \"age\", y = \"headL\", data = possum,\n",
        "           hue = \"sex\", ci = None)\n",
        "plt.xlim(0,10)\n",
        "plt.show()"
      ]
    },
    {
      "cell_type": "markdown",
      "id": "01a60512",
      "metadata": {
        "id": "01a60512"
      },
      "source": [
        "### Check the effect of an Influential Point"
      ]
    },
    {
      "cell_type": "markdown",
      "id": "7b3337a9",
      "metadata": {
        "id": "7b3337a9"
      },
      "source": [
        "- Now we would like to add an influential point and see how this affects the regression line.\n",
        "- We decide to add a point that behaves like an outlier to the bottom of the dataframe.\n",
        "- Let's add a point representing \"age\" = 9 and \"headL\" = 86.\n",
        "- We call the new dataframe `possum_modified`."
      ]
    },
    {
      "cell_type": "code",
      "execution_count": null,
      "id": "37dad507",
      "metadata": {
        "id": "37dad507"
      },
      "outputs": [],
      "source": [
        "# Original data\n",
        "possum.tail()"
      ]
    },
    {
      "cell_type": "markdown",
      "id": "9b5727bd",
      "metadata": {
        "id": "9b5727bd"
      },
      "source": [
        "#### Create a copy of our original dataset\n",
        "\n",
        "**pd.DataFrame.copy:** https://pandas.pydata.org/docs/reference/api/pandas.DataFrame.copy.html"
      ]
    },
    {
      "cell_type": "markdown",
      "id": "680a8bd9",
      "metadata": {
        "id": "680a8bd9"
      },
      "source": [
        "Some convention in syntax:\n",
        "- We use `.` to call the functions that are related to an Python object.\n",
        "- e.g. `possum.head()`, `possum.tail()`\n",
        "- Therefore, we should not include `.` in a name to define a Python object.\n",
        "- Instead, we can use some syntax like \"_\".\n",
        "- e.g. `possum_modified` means a modfied version of the data frame `possum`. This is simply a candidate way, but not the only way. You can also use other ways such as `possumModfied`. It is good habit to keep a consistent nameing rule of Python objects."
      ]
    },
    {
      "cell_type": "code",
      "execution_count": null,
      "id": "5d0fb313",
      "metadata": {
        "id": "5d0fb313"
      },
      "outputs": [],
      "source": [
        "possum_modified = possum.copy()"
      ]
    },
    {
      "cell_type": "markdown",
      "id": "b8105e42",
      "metadata": {
        "id": "b8105e42"
      },
      "source": [
        "#### Add a new observation (outlier) to our DataFrame"
      ]
    },
    {
      "cell_type": "code",
      "execution_count": null,
      "id": "bc239f0a",
      "metadata": {
        "id": "bc239f0a"
      },
      "outputs": [],
      "source": [
        "possum_modified.loc[46, 'age'] = 9\n",
        "possum_modified.loc[46, 'headL'] = 86"
      ]
    },
    {
      "cell_type": "code",
      "execution_count": null,
      "id": "d130547f",
      "metadata": {
        "id": "d130547f"
      },
      "outputs": [],
      "source": [
        "# Now let's look at the last 5 rows of the modified dataframe!\n",
        "possum_modified.tail()"
      ]
    },
    {
      "cell_type": "code",
      "execution_count": null,
      "id": "c64b1479",
      "metadata": {
        "id": "c64b1479"
      },
      "outputs": [],
      "source": [
        "# The new point that is added to the dataframe is identified\n",
        "# in red in the scatterplot below.\n",
        "plt.scatter(possum_modified.loc[0:45, 'age'],\n",
        "            possum_modified.loc[0:45, 'headL'], color = 'blue')\n",
        "plt.scatter(possum_modified.loc[46, 'age'],\n",
        "            possum_modified.loc[46, 'headL'], color = 'red')\n",
        "plt.xlabel(\"age\")\n",
        "plt.ylabel(\"headL\")\n",
        "plt.show()"
      ]
    },
    {
      "cell_type": "markdown",
      "id": "d3f8af2a",
      "metadata": {
        "id": "d3f8af2a"
      },
      "source": [
        "#### Building a new model using the modified dataframe"
      ]
    },
    {
      "cell_type": "code",
      "execution_count": null,
      "id": "9fc6020c",
      "metadata": {
        "id": "9fc6020c"
      },
      "outputs": [],
      "source": [
        "model_modified = stats.linregress(x = possum_modified['age'],\n",
        "                                  y = possum_modified['headL'])"
      ]
    },
    {
      "cell_type": "code",
      "execution_count": null,
      "id": "bad6fb84",
      "metadata": {
        "id": "bad6fb84"
      },
      "outputs": [],
      "source": [
        "# Finding the intercept of the regression line\n",
        "model_modified.intercept"
      ]
    },
    {
      "cell_type": "code",
      "execution_count": null,
      "id": "e66bcd6c",
      "metadata": {
        "id": "e66bcd6c"
      },
      "outputs": [],
      "source": [
        "# Finding the slope of the regression line\n",
        "model_modified.slope"
      ]
    },
    {
      "cell_type": "code",
      "execution_count": null,
      "id": "f85ebd30",
      "metadata": {
        "id": "f85ebd30"
      },
      "outputs": [],
      "source": [
        "# Finding the correlation coefficient (r)\n",
        "model_modified.rvalue"
      ]
    },
    {
      "cell_type": "code",
      "execution_count": null,
      "id": "837e97ab",
      "metadata": {
        "id": "837e97ab"
      },
      "outputs": [],
      "source": [
        "# Calculating the R-squared\n",
        "model_modified.rvalue ** 2"
      ]
    },
    {
      "cell_type": "code",
      "execution_count": null,
      "id": "c5ad6a51",
      "metadata": {
        "id": "c5ad6a51"
      },
      "outputs": [],
      "source": [
        "# Plotting the fitted line for the modified data\n",
        "sns.lmplot(x = \"age\", y = \"headL\", data = possum_modified,\n",
        "           ci = None)\n",
        "plt.xlim(0,10)\n",
        "plt.show()"
      ]
    },
    {
      "cell_type": "code",
      "execution_count": null,
      "id": "277e5d97",
      "metadata": {
        "id": "277e5d97"
      },
      "outputs": [],
      "source": [
        "# Previous fitted using original data\n",
        "sns.lmplot(x = \"age\", y = \"headL\", data = possum,\n",
        "           ci = None)\n",
        "plt.xlim(0,10)\n",
        "plt.show()"
      ]
    },
    {
      "cell_type": "markdown",
      "id": "e82b9975",
      "metadata": {
        "id": "e82b9975"
      },
      "source": [
        "**Can you see the difference between these two fitted lines?**"
      ]
    },
    {
      "cell_type": "markdown",
      "id": "5656f37f",
      "metadata": {
        "id": "5656f37f"
      },
      "source": [
        "#### Residual plot\n",
        "\n",
        "**sns.residplot:** https://seaborn.pydata.org/generated/seaborn.residplot.html"
      ]
    },
    {
      "cell_type": "code",
      "execution_count": null,
      "id": "725e2ad5",
      "metadata": {
        "id": "725e2ad5"
      },
      "outputs": [],
      "source": [
        "#draw the residual plot\n",
        "sns.residplot(x = \"age\", y = \"headL\", data = possum_modified)\n",
        "plt.show()"
      ]
    },
    {
      "cell_type": "markdown",
      "id": "59c5b808",
      "metadata": {
        "id": "59c5b808"
      },
      "source": [
        "**Can you find the influential point from this residual plot?**"
      ]
    },
    {
      "cell_type": "markdown",
      "id": "08dba41c",
      "metadata": {
        "id": "08dba41c"
      },
      "source": [
        "**Practice: Identifying by the scatterplot if a point is influencial**\n",
        "\n",
        "In the previous example we added a point that was considerably outside the cloud of points in the original data ans we observed that this new point was influential (as expected) when we computed the new regression line. Now, let's create another dataset from the original data, that is not an influential point.\n",
        "\n",
        "Step 1: Create another modified dataset by running the code `possum_modified2 = possum.copy()`\n",
        "Step 2: Add a point with `age = 9 and headL = 94` use the same code in the previous example.\n",
        "Step 3: Plot the scatterplot using the data `possum_modified2`\n",
        "Step 4: What can you say about the new point by looking at the scatterplot. Is it an influential point? Why or why not?"
      ]
    },
    {
      "cell_type": "code",
      "execution_count": null,
      "id": "b969f823",
      "metadata": {
        "id": "b969f823"
      },
      "outputs": [],
      "source": [
        "# your code here"
      ]
    }
  ],
  "metadata": {
    "kernelspec": {
      "display_name": "Python 3 (ipykernel)",
      "language": "python",
      "name": "python3"
    },
    "language_info": {
      "codemirror_mode": {
        "name": "ipython",
        "version": 3
      },
      "file_extension": ".py",
      "mimetype": "text/x-python",
      "name": "python",
      "nbconvert_exporter": "python",
      "pygments_lexer": "ipython3",
      "version": "3.9.12"
    },
    "colab": {
      "provenance": [],
      "toc_visible": true,
      "include_colab_link": true
    }
  },
  "nbformat": 4,
  "nbformat_minor": 5
}